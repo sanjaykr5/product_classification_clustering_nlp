{
 "cells": [
  {
   "cell_type": "markdown",
   "id": "eb0812a3-86c0-49ca-a975-cf4bdb30b903",
   "metadata": {},
   "source": [
    "# Product Clustering Approaches\n",
    "## In this Notebook, Different  approaches are compared to map product title to product cluster name \n"
   ]
  },
  {
   "cell_type": "code",
   "execution_count": 202,
   "id": "01003fc7-9920-4234-956c-64c8c53dcdf5",
   "metadata": {},
   "outputs": [],
   "source": [
    "import pandas as pd\n",
    "import numpy as np\n",
    "import textdistance as td\n",
    "from utils.helper_functions import read_dataframes"
   ]
  },
  {
   "cell_type": "code",
   "execution_count": 203,
   "id": "e4a50003-048a-4b8e-9ddf-c159e1df83bf",
   "metadata": {},
   "outputs": [],
   "source": [
    "train_df, val_df, test_df  = read_dataframes()"
   ]
  },
  {
   "cell_type": "code",
   "execution_count": 204,
   "id": "c0c3d834-4b4c-421f-924f-d07cfea45e82",
   "metadata": {},
   "outputs": [
    {
     "data": {
      "text/html": [
       "<div>\n",
       "<style scoped>\n",
       "    .dataframe tbody tr th:only-of-type {\n",
       "        vertical-align: middle;\n",
       "    }\n",
       "\n",
       "    .dataframe tbody tr th {\n",
       "        vertical-align: top;\n",
       "    }\n",
       "\n",
       "    .dataframe thead th {\n",
       "        text-align: right;\n",
       "    }\n",
       "</style>\n",
       "<table border=\"1\" class=\"dataframe\">\n",
       "  <thead>\n",
       "    <tr style=\"text-align: right;\">\n",
       "      <th></th>\n",
       "      <th>product_title</th>\n",
       "      <th>cluster_label</th>\n",
       "      <th>category</th>\n",
       "    </tr>\n",
       "  </thead>\n",
       "  <tbody>\n",
       "    <tr>\n",
       "      <th>0</th>\n",
       "      <td>zanussi zwf71243w washing machines 7kg</td>\n",
       "      <td>zanussi zwf71243w</td>\n",
       "      <td>9</td>\n",
       "    </tr>\n",
       "    <tr>\n",
       "      <th>1</th>\n",
       "      <td>lg 43 lk5100pla led tv 43lk5100pla mw01</td>\n",
       "      <td>lg 43lk5100pla</td>\n",
       "      <td>8</td>\n",
       "    </tr>\n",
       "    <tr>\n",
       "      <th>2</th>\n",
       "      <td>hp amd opteron quad core 8380 2 5ghz fio kit 2...</td>\n",
       "      <td>hp amd opteron 8380 2 5ghz upgrade tray</td>\n",
       "      <td>0</td>\n",
       "    </tr>\n",
       "    <tr>\n",
       "      <th>3</th>\n",
       "      <td>bosch kiv87vf30g serie 4 70 30 integrated frid...</td>\n",
       "      <td>bosch kiv87vf30g integrated</td>\n",
       "      <td>4</td>\n",
       "    </tr>\n",
       "    <tr>\n",
       "      <th>4</th>\n",
       "      <td>amica einbau mikrowelle black design emw 13170</td>\n",
       "      <td>amica emw 13170 black</td>\n",
       "      <td>6</td>\n",
       "    </tr>\n",
       "    <tr>\n",
       "      <th>...</th>\n",
       "      <td>...</td>\n",
       "      <td>...</td>\n",
       "      <td>...</td>\n",
       "    </tr>\n",
       "    <tr>\n",
       "      <th>21181</th>\n",
       "      <td>intel xeon e3 1225 v6 4x 3 30ghz sockel 1151 b...</td>\n",
       "      <td>intel core e3 1225 v6 3 3ghz box</td>\n",
       "      <td>0</td>\n",
       "    </tr>\n",
       "    <tr>\n",
       "      <th>21182</th>\n",
       "      <td>1400rpm washing machine 8kg load class orange</td>\n",
       "      <td>gorenje w8543lo</td>\n",
       "      <td>9</td>\n",
       "    </tr>\n",
       "    <tr>\n",
       "      <th>21183</th>\n",
       "      <td>whirlpool uw8f2cxb 187cm freezer</td>\n",
       "      <td>whirlpool uw8 f2c xb uk stainless steel</td>\n",
       "      <td>3</td>\n",
       "    </tr>\n",
       "    <tr>\n",
       "      <th>21184</th>\n",
       "      <td>bosch smi50c12gb smi50c12gb</td>\n",
       "      <td>bosch smi50c12gb white</td>\n",
       "      <td>2</td>\n",
       "    </tr>\n",
       "    <tr>\n",
       "      <th>21185</th>\n",
       "      <td>lg viewty silver mobile phone</td>\n",
       "      <td>lg ku990 viewty</td>\n",
       "      <td>7</td>\n",
       "    </tr>\n",
       "  </tbody>\n",
       "</table>\n",
       "<p>21186 rows × 3 columns</p>\n",
       "</div>"
      ],
      "text/plain": [
       "                                           product_title  \\\n",
       "0                 zanussi zwf71243w washing machines 7kg   \n",
       "1                lg 43 lk5100pla led tv 43lk5100pla mw01   \n",
       "2      hp amd opteron quad core 8380 2 5ghz fio kit 2...   \n",
       "3      bosch kiv87vf30g serie 4 70 30 integrated frid...   \n",
       "4         amica einbau mikrowelle black design emw 13170   \n",
       "...                                                  ...   \n",
       "21181  intel xeon e3 1225 v6 4x 3 30ghz sockel 1151 b...   \n",
       "21182      1400rpm washing machine 8kg load class orange   \n",
       "21183                   whirlpool uw8f2cxb 187cm freezer   \n",
       "21184                        bosch smi50c12gb smi50c12gb   \n",
       "21185                      lg viewty silver mobile phone   \n",
       "\n",
       "                                 cluster_label  category  \n",
       "0                            zanussi zwf71243w         9  \n",
       "1                               lg 43lk5100pla         8  \n",
       "2      hp amd opteron 8380 2 5ghz upgrade tray         0  \n",
       "3                  bosch kiv87vf30g integrated         4  \n",
       "4                        amica emw 13170 black         6  \n",
       "...                                        ...       ...  \n",
       "21181         intel core e3 1225 v6 3 3ghz box         0  \n",
       "21182                          gorenje w8543lo         9  \n",
       "21183  whirlpool uw8 f2c xb uk stainless steel         3  \n",
       "21184                   bosch smi50c12gb white         2  \n",
       "21185                          lg ku990 viewty         7  \n",
       "\n",
       "[21186 rows x 3 columns]"
      ]
     },
     "execution_count": 204,
     "metadata": {},
     "output_type": "execute_result"
    }
   ],
   "source": [
    "train_df"
   ]
  },
  {
   "cell_type": "code",
   "execution_count": 70,
   "id": "178ae2c0-e090-4c69-a9eb-177877d992b3",
   "metadata": {},
   "outputs": [],
   "source": [
    "cluster_labels = np.array(list(set(train_df['cluster_label'].tolist() + val_df['cluster_label'].tolist() + test_df['cluster_label'].tolist())))"
   ]
  },
  {
   "cell_type": "markdown",
   "id": "9370351f-eda1-42b0-a281-5619825c26d8",
   "metadata": {},
   "source": [
    "## The Baseline Approach is selecting cluster label with direct word matching"
   ]
  },
  {
   "cell_type": "code",
   "execution_count": 15,
   "id": "86bd8b28-1f4f-40c5-8923-d60bba1cb04c",
   "metadata": {},
   "outputs": [],
   "source": [
    "def search_token(word, cluster_label):\n",
    "    if word in cluster_label:\n",
    "        return True\n",
    "    return False"
   ]
  },
  {
   "cell_type": "code",
   "execution_count": 17,
   "id": "74e29540-a819-46b8-a2f8-83c88b4c9db6",
   "metadata": {},
   "outputs": [],
   "source": [
    "def search_similarity(text, cluster_labels):\n",
    "    match_scores = np.zeros(len(cluster_labels))\n",
    "    search_fun = np.vectorize(search_token)\n",
    "    for word in text.split(' '):\n",
    "        match_scores += search_fun(word, cluster_labels)\n",
    "    return cluster_labels[np.argmax(match_scores)]"
   ]
  },
  {
   "cell_type": "code",
   "execution_count": 18,
   "id": "a65162e9-bebc-4dff-b00a-d7d3b92f6d92",
   "metadata": {},
   "outputs": [],
   "source": [
    "val_df['predicted_cluster'] = val_df['product_title'].apply(lambda x : search_similarity(x, cluster_labels))"
   ]
  },
  {
   "cell_type": "code",
   "execution_count": 21,
   "id": "09bb95c7-fe0c-4344-989b-8baa86be0afa",
   "metadata": {},
   "outputs": [
    {
     "name": "stdout",
     "output_type": "stream",
     "text": [
      "Accuracy on Validation Dataset :  0.46459926366468424\n"
     ]
    }
   ],
   "source": [
    "print('Accuracy on Validation Dataset : ', (val_df['predicted_cluster'] == val_df['cluster_label']).sum()/val_df.shape[0])"
   ]
  },
  {
   "cell_type": "markdown",
   "id": "fe6be36b-1f36-4b55-8808-8c33d6b0b903",
   "metadata": {},
   "source": [
    "## Searching with cluster label tokenized"
   ]
  },
  {
   "cell_type": "code",
   "execution_count": 143,
   "id": "3dd4bbb6-334b-4669-8b10-ad85561bc847",
   "metadata": {},
   "outputs": [],
   "source": [
    "def search_token_tokenized(word, cluster_label):\n",
    "    if word in cluster_label.split(' '):\n",
    "        return True\n",
    "    return False"
   ]
  },
  {
   "cell_type": "code",
   "execution_count": 198,
   "id": "9f7424f6-7813-4d7b-9d92-1e925c9eb445",
   "metadata": {},
   "outputs": [],
   "source": [
    "def search_similarity_tokenized(text, cluster_labels):\n",
    "    match_scores = np.zeros(len(cluster_labels))\n",
    "    search_fun = np.vectorize(search_token_tokenized)\n",
    "    for word in text.split(' '):\n",
    "        match_scores += search_fun(word, cluster_labels)\n",
    "    return cluster_labels[np.argmax(match_scores)]"
   ]
  },
  {
   "cell_type": "code",
   "execution_count": 71,
   "id": "1f28126c-5988-4d11-847a-e82423fb37b7",
   "metadata": {},
   "outputs": [],
   "source": [
    "val_df['predicted_cluster'] = val_df['product_title'].apply(lambda x : search_similarity_tokenized(x, cluster_labels))"
   ]
  },
  {
   "cell_type": "code",
   "execution_count": 72,
   "id": "ed3a071e-a0cb-4818-b8c6-808ebb552296",
   "metadata": {},
   "outputs": [
    {
     "name": "stdout",
     "output_type": "stream",
     "text": [
      "Accuracy on Validation Dataset :  0.5016992353440951\n"
     ]
    }
   ],
   "source": [
    "print('Accuracy on Validation Dataset : ', (val_df['predicted_cluster'] == val_df['cluster_label']).sum()/val_df.shape[0])"
   ]
  },
  {
   "cell_type": "markdown",
   "id": "440b69d5-ede4-458d-a9f1-e38587abbe8b",
   "metadata": {},
   "source": [
    "## Cosine Similarity"
   ]
  },
  {
   "cell_type": "code",
   "execution_count": 161,
   "id": "8984c7a5-77e3-46db-8ac1-7ff08daf9912",
   "metadata": {},
   "outputs": [],
   "source": [
    "def cosine_similarity(text, cluster_label):\n",
    "    return td.cosine(text.split(' '), cluster_label.split(' '))"
   ]
  },
  {
   "cell_type": "code",
   "execution_count": 162,
   "id": "8c6d33f3-bb0b-4742-8e14-443255376ff2",
   "metadata": {},
   "outputs": [],
   "source": [
    "def search_max_cosine(text, cluster_labels):\n",
    "    match_scores = np.zeros(len(cluster_labels))\n",
    "    cos_fun = np.vectorize(cosine_similarity)\n",
    "    match_scores = cos_fun(text, cluster_labels)\n",
    "    return cluster_labels[np.argmax(match_scores)]"
   ]
  },
  {
   "cell_type": "code",
   "execution_count": 165,
   "id": "a06ba9f4-3e5e-47d2-97df-db90366e2463",
   "metadata": {},
   "outputs": [],
   "source": [
    "val_df['predicted_cluster_cosine'] = val_df['product_title'].apply(lambda x : search_max_cosine(x, cluster_labels))"
   ]
  },
  {
   "cell_type": "code",
   "execution_count": 166,
   "id": "1db86482-b660-4093-82b9-268da145a1a8",
   "metadata": {},
   "outputs": [
    {
     "name": "stdout",
     "output_type": "stream",
     "text": [
      "Accuracy on Validation Dataset :  0.6367884451996602\n"
     ]
    }
   ],
   "source": [
    "print('Accuracy on Validation Dataset : ', (val_df['predicted_cluster_cosine'] == val_df['cluster_label']).sum()/val_df.shape[0])"
   ]
  },
  {
   "cell_type": "markdown",
   "id": "7b9563ad-482e-4656-bcb8-643607dcc22a",
   "metadata": {},
   "source": [
    "## Dice Score"
   ]
  },
  {
   "cell_type": "code",
   "execution_count": 169,
   "id": "79bab13b-abda-49b3-8c2b-af86565426d9",
   "metadata": {},
   "outputs": [],
   "source": [
    "def dice_similarity(text, cluster_label):\n",
    "    return td.sorensen_dice(text.split(' '), cluster_label.split(' '))"
   ]
  },
  {
   "cell_type": "code",
   "execution_count": 170,
   "id": "74bc66c9-eb20-4df9-94e3-6d4cd26d2590",
   "metadata": {},
   "outputs": [],
   "source": [
    "def search_max_dice(text, cluster_labels):\n",
    "    match_scores = np.zeros(len(cluster_labels))\n",
    "    dice_fun = np.vectorize(dice_similarity)\n",
    "    match_scores = dice_fun(text, cluster_labels)\n",
    "    return cluster_labels[np.argmax(match_scores)]"
   ]
  },
  {
   "cell_type": "code",
   "execution_count": 171,
   "id": "21293469-2abe-479e-b719-8fb34f8f01b8",
   "metadata": {},
   "outputs": [],
   "source": [
    "val_df['predicted_cluster_dice'] = val_df['product_title'].apply(lambda x : search_max_dice(x, cluster_labels))"
   ]
  },
  {
   "cell_type": "code",
   "execution_count": 172,
   "id": "67456e91-0bf3-4c2b-b23d-274f4ddceac8",
   "metadata": {},
   "outputs": [
    {
     "name": "stdout",
     "output_type": "stream",
     "text": [
      "Accuracy on Validation Dataset :  0.6359388275276125\n"
     ]
    }
   ],
   "source": [
    "print('Accuracy on Validation Dataset : ', (val_df['predicted_cluster_dice'] == val_df['cluster_label']).sum()/val_df.shape[0])"
   ]
  },
  {
   "cell_type": "markdown",
   "id": "756b0919-6ce7-4af5-9dc4-91d0b7dc6e9a",
   "metadata": {},
   "source": [
    "## Tversky Distance"
   ]
  },
  {
   "cell_type": "code",
   "execution_count": 183,
   "id": "f1cd3a74-d4e9-4d22-8e9c-320148d4eed3",
   "metadata": {},
   "outputs": [],
   "source": [
    "tversky = td.Tversky(ks=(0.1, 0.4))"
   ]
  },
  {
   "cell_type": "code",
   "execution_count": 184,
   "id": "c15d1deb-5ffd-4a61-826d-812d472669a7",
   "metadata": {},
   "outputs": [],
   "source": [
    "def tversky_distance(text, cluster_label):\n",
    "    return tversky(text.split(' '), cluster_label.split(' '))"
   ]
  },
  {
   "cell_type": "code",
   "execution_count": 185,
   "id": "1e3c4f3c-f979-491a-b724-d30240040a58",
   "metadata": {},
   "outputs": [],
   "source": [
    "def search_max_tversky(text, cluster_labels):\n",
    "    match_scores = np.zeros(len(cluster_labels))\n",
    "    tversky_fun = np.vectorize(tversky_distance)\n",
    "    match_scores = tversky_fun(text, cluster_labels)\n",
    "    return cluster_labels[np.argmax(match_scores)]"
   ]
  },
  {
   "cell_type": "code",
   "execution_count": 186,
   "id": "4bb721bf-d9d7-406e-b4e6-a94a530fd23e",
   "metadata": {},
   "outputs": [],
   "source": [
    "val_df['predicted_cluster_tversky'] = val_df['product_title'].apply(lambda x : search_max_tversky(x, cluster_labels))"
   ]
  },
  {
   "cell_type": "code",
   "execution_count": 187,
   "id": "c9257419-d2ba-4320-9cd7-3aef5a33eee4",
   "metadata": {},
   "outputs": [
    {
     "name": "stdout",
     "output_type": "stream",
     "text": [
      "Accuracy on Validation Dataset :  0.6346644010195412\n"
     ]
    }
   ],
   "source": [
    "print('Accuracy on Validation Dataset : ', (val_df['predicted_cluster_tversky'] == val_df['cluster_label']).sum()/val_df.shape[0])"
   ]
  },
  {
   "cell_type": "code",
   "execution_count": 193,
   "id": "fa825ae3-03f5-4320-acb7-13fb5cc34909",
   "metadata": {},
   "outputs": [],
   "source": [
    "import json"
   ]
  },
  {
   "cell_type": "code",
   "execution_count": 194,
   "id": "4586da27-50a6-4771-815f-805781683193",
   "metadata": {},
   "outputs": [],
   "source": [
    "with open('model_files/cluster_label_mapping.json', 'r') as f:\n",
    "    cluster_label_mapping = json.load(f)"
   ]
  },
  {
   "cell_type": "code",
   "execution_count": 213,
   "id": "1eb1f400-7197-4db6-9d85-9fadb23012f8",
   "metadata": {},
   "outputs": [],
   "source": [
    "df = pd.read_csv('data/pricerunner_aggregate.csv')"
   ]
  },
  {
   "cell_type": "code",
   "execution_count": 234,
   "id": "113588a5-4bb2-4515-9b31-c70b0ff133b0",
   "metadata": {},
   "outputs": [
    {
     "name": "stdout",
     "output_type": "stream",
     "text": [
      "smeg fab28 60cm retro style left hand hinge fridge with icebox red\n"
     ]
    }
   ],
   "source": [
    "print(df.loc[35307]['Product Title'])"
   ]
  },
  {
   "cell_type": "code",
   "execution_count": 219,
   "id": "185ce6aa-6507-432c-ab1f-6545af01128b",
   "metadata": {},
   "outputs": [],
   "source": [
    "import pickle"
   ]
  },
  {
   "cell_type": "code",
   "execution_count": 222,
   "id": "eecd5ca6-9f82-4b9d-bad5-5a977f90353f",
   "metadata": {},
   "outputs": [],
   "source": [
    "with open('model_files/random_forest_classification.pkl', 'rb') as f:\n",
    "    model = pickle.load(f)"
   ]
  },
  {
   "cell_type": "code",
   "execution_count": null,
   "id": "bc750487-4c51-445d-95c4-cd1ae0ea16dc",
   "metadata": {},
   "outputs": [],
   "source": []
  }
 ],
 "metadata": {
  "kernelspec": {
   "display_name": "Python 3 (ipykernel)",
   "language": "python",
   "name": "python3"
  },
  "language_info": {
   "codemirror_mode": {
    "name": "ipython",
    "version": 3
   },
   "file_extension": ".py",
   "mimetype": "text/x-python",
   "name": "python",
   "nbconvert_exporter": "python",
   "pygments_lexer": "ipython3",
   "version": "3.10.14"
  }
 },
 "nbformat": 4,
 "nbformat_minor": 5
}
