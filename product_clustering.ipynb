{
 "cells": [
  {
   "cell_type": "markdown",
   "id": "eb0812a3-86c0-49ca-a975-cf4bdb30b903",
   "metadata": {},
   "source": [
    "# Product Clustering Approaches\n",
    "## In this Notebook, Different  approaches are compared to map product title to product cluster name \n"
   ]
  },
  {
   "cell_type": "code",
   "execution_count": 1,
   "id": "01003fc7-9920-4234-956c-64c8c53dcdf5",
   "metadata": {},
   "outputs": [],
   "source": [
    "import pandas as pd\n",
    "import numpy as np\n",
    "import textdistance as td\n",
    "import json\n",
    "import torch\n",
    "import torch.nn as nn\n",
    "from torch.utils.data import DataLoader, Dataset\n",
    "from torch.nn.utils.rnn import pad_sequence\n",
    "from utils.helper_functions import read_dataframes, encode_sequence, tokenize\n",
    "import itertools"
   ]
  },
  {
   "cell_type": "code",
   "execution_count": 2,
   "id": "e4a50003-048a-4b8e-9ddf-c159e1df83bf",
   "metadata": {},
   "outputs": [],
   "source": [
    "train_df, val_df, test_df  = read_dataframes()"
   ]
  },
  {
   "cell_type": "code",
   "execution_count": 3,
   "id": "c0c3d834-4b4c-421f-924f-d07cfea45e82",
   "metadata": {},
   "outputs": [
    {
     "data": {
      "text/html": [
       "<div>\n",
       "<style scoped>\n",
       "    .dataframe tbody tr th:only-of-type {\n",
       "        vertical-align: middle;\n",
       "    }\n",
       "\n",
       "    .dataframe tbody tr th {\n",
       "        vertical-align: top;\n",
       "    }\n",
       "\n",
       "    .dataframe thead th {\n",
       "        text-align: right;\n",
       "    }\n",
       "</style>\n",
       "<table border=\"1\" class=\"dataframe\">\n",
       "  <thead>\n",
       "    <tr style=\"text-align: right;\">\n",
       "      <th></th>\n",
       "      <th>product_title</th>\n",
       "      <th>cluster_label</th>\n",
       "      <th>category</th>\n",
       "    </tr>\n",
       "  </thead>\n",
       "  <tbody>\n",
       "    <tr>\n",
       "      <th>0</th>\n",
       "      <td>zanussi zwf71243w washing machines 7kg</td>\n",
       "      <td>zanussi zwf71243w</td>\n",
       "      <td>9</td>\n",
       "    </tr>\n",
       "    <tr>\n",
       "      <th>1</th>\n",
       "      <td>lg 43 lk5100pla led tv 43lk5100pla mw01</td>\n",
       "      <td>lg 43lk5100pla</td>\n",
       "      <td>8</td>\n",
       "    </tr>\n",
       "    <tr>\n",
       "      <th>2</th>\n",
       "      <td>hp amd opteron quad core 8380 2 5ghz fio kit 2...</td>\n",
       "      <td>hp amd opteron 8380 2 5ghz upgrade tray</td>\n",
       "      <td>0</td>\n",
       "    </tr>\n",
       "    <tr>\n",
       "      <th>3</th>\n",
       "      <td>bosch kiv87vf30g serie 4 70 30 integrated frid...</td>\n",
       "      <td>bosch kiv87vf30g integrated</td>\n",
       "      <td>4</td>\n",
       "    </tr>\n",
       "    <tr>\n",
       "      <th>4</th>\n",
       "      <td>amica einbau mikrowelle black design emw 13170</td>\n",
       "      <td>amica emw 13170 black</td>\n",
       "      <td>6</td>\n",
       "    </tr>\n",
       "    <tr>\n",
       "      <th>...</th>\n",
       "      <td>...</td>\n",
       "      <td>...</td>\n",
       "      <td>...</td>\n",
       "    </tr>\n",
       "    <tr>\n",
       "      <th>21181</th>\n",
       "      <td>intel xeon e3 1225 v6 4x 3 30ghz sockel 1151 b...</td>\n",
       "      <td>intel core e3 1225 v6 3 3ghz box</td>\n",
       "      <td>0</td>\n",
       "    </tr>\n",
       "    <tr>\n",
       "      <th>21182</th>\n",
       "      <td>1400rpm washing machine 8kg load class orange</td>\n",
       "      <td>gorenje w8543lo</td>\n",
       "      <td>9</td>\n",
       "    </tr>\n",
       "    <tr>\n",
       "      <th>21183</th>\n",
       "      <td>whirlpool uw8f2cxb 187cm freezer</td>\n",
       "      <td>whirlpool uw8 f2c xb uk stainless steel</td>\n",
       "      <td>3</td>\n",
       "    </tr>\n",
       "    <tr>\n",
       "      <th>21184</th>\n",
       "      <td>bosch smi50c12gb smi50c12gb</td>\n",
       "      <td>bosch smi50c12gb white</td>\n",
       "      <td>2</td>\n",
       "    </tr>\n",
       "    <tr>\n",
       "      <th>21185</th>\n",
       "      <td>lg viewty silver mobile phone</td>\n",
       "      <td>lg ku990 viewty</td>\n",
       "      <td>7</td>\n",
       "    </tr>\n",
       "  </tbody>\n",
       "</table>\n",
       "<p>21186 rows × 3 columns</p>\n",
       "</div>"
      ],
      "text/plain": [
       "                                           product_title  \\\n",
       "0                 zanussi zwf71243w washing machines 7kg   \n",
       "1                lg 43 lk5100pla led tv 43lk5100pla mw01   \n",
       "2      hp amd opteron quad core 8380 2 5ghz fio kit 2...   \n",
       "3      bosch kiv87vf30g serie 4 70 30 integrated frid...   \n",
       "4         amica einbau mikrowelle black design emw 13170   \n",
       "...                                                  ...   \n",
       "21181  intel xeon e3 1225 v6 4x 3 30ghz sockel 1151 b...   \n",
       "21182      1400rpm washing machine 8kg load class orange   \n",
       "21183                   whirlpool uw8f2cxb 187cm freezer   \n",
       "21184                        bosch smi50c12gb smi50c12gb   \n",
       "21185                      lg viewty silver mobile phone   \n",
       "\n",
       "                                 cluster_label  category  \n",
       "0                            zanussi zwf71243w         9  \n",
       "1                               lg 43lk5100pla         8  \n",
       "2      hp amd opteron 8380 2 5ghz upgrade tray         0  \n",
       "3                  bosch kiv87vf30g integrated         4  \n",
       "4                        amica emw 13170 black         6  \n",
       "...                                        ...       ...  \n",
       "21181         intel core e3 1225 v6 3 3ghz box         0  \n",
       "21182                          gorenje w8543lo         9  \n",
       "21183  whirlpool uw8 f2c xb uk stainless steel         3  \n",
       "21184                   bosch smi50c12gb white         2  \n",
       "21185                          lg ku990 viewty         7  \n",
       "\n",
       "[21186 rows x 3 columns]"
      ]
     },
     "execution_count": 3,
     "metadata": {},
     "output_type": "execute_result"
    }
   ],
   "source": [
    "train_df"
   ]
  },
  {
   "cell_type": "code",
   "execution_count": 70,
   "id": "178ae2c0-e090-4c69-a9eb-177877d992b3",
   "metadata": {},
   "outputs": [],
   "source": [
    "cluster_labels = np.array(list(set(train_df['cluster_label'].tolist() + val_df['cluster_label'].tolist() + test_df['cluster_label'].tolist())))"
   ]
  },
  {
   "cell_type": "markdown",
   "id": "9370351f-eda1-42b0-a281-5619825c26d8",
   "metadata": {},
   "source": [
    "## The Baseline Approach is selecting cluster label with direct word matching"
   ]
  },
  {
   "cell_type": "code",
   "execution_count": 15,
   "id": "86bd8b28-1f4f-40c5-8923-d60bba1cb04c",
   "metadata": {},
   "outputs": [],
   "source": [
    "def search_token(word, cluster_label):\n",
    "    if word in cluster_label:\n",
    "        return True\n",
    "    return False"
   ]
  },
  {
   "cell_type": "code",
   "execution_count": 17,
   "id": "74e29540-a819-46b8-a2f8-83c88b4c9db6",
   "metadata": {},
   "outputs": [],
   "source": [
    "def search_similarity(text, cluster_labels):\n",
    "    match_scores = np.zeros(len(cluster_labels))\n",
    "    search_fun = np.vectorize(search_token)\n",
    "    for word in text.split(' '):\n",
    "        match_scores += search_fun(word, cluster_labels)\n",
    "    return cluster_labels[np.argmax(match_scores)]"
   ]
  },
  {
   "cell_type": "code",
   "execution_count": 18,
   "id": "a65162e9-bebc-4dff-b00a-d7d3b92f6d92",
   "metadata": {},
   "outputs": [],
   "source": [
    "val_df['predicted_cluster'] = val_df['product_title'].apply(lambda x : search_similarity(x, cluster_labels))"
   ]
  },
  {
   "cell_type": "code",
   "execution_count": 21,
   "id": "09bb95c7-fe0c-4344-989b-8baa86be0afa",
   "metadata": {},
   "outputs": [
    {
     "name": "stdout",
     "output_type": "stream",
     "text": [
      "Accuracy on Validation Dataset :  0.46459926366468424\n"
     ]
    }
   ],
   "source": [
    "print('Accuracy on Validation Dataset : ', (val_df['predicted_cluster'] == val_df['cluster_label']).sum()/val_df.shape[0])"
   ]
  },
  {
   "cell_type": "markdown",
   "id": "fe6be36b-1f36-4b55-8808-8c33d6b0b903",
   "metadata": {},
   "source": [
    "## Searching with cluster label tokenized"
   ]
  },
  {
   "cell_type": "code",
   "execution_count": 143,
   "id": "3dd4bbb6-334b-4669-8b10-ad85561bc847",
   "metadata": {},
   "outputs": [],
   "source": [
    "def search_token_tokenized(word, cluster_label):\n",
    "    if word in cluster_label.split(' '):\n",
    "        return True\n",
    "    return False"
   ]
  },
  {
   "cell_type": "code",
   "execution_count": 198,
   "id": "9f7424f6-7813-4d7b-9d92-1e925c9eb445",
   "metadata": {},
   "outputs": [],
   "source": [
    "def search_similarity_tokenized(text, cluster_labels):\n",
    "    match_scores = np.zeros(len(cluster_labels))\n",
    "    search_fun = np.vectorize(search_token_tokenized)\n",
    "    for word in text.split(' '):\n",
    "        match_scores += search_fun(word, cluster_labels)\n",
    "    return cluster_labels[np.argmax(match_scores)]"
   ]
  },
  {
   "cell_type": "code",
   "execution_count": 71,
   "id": "1f28126c-5988-4d11-847a-e82423fb37b7",
   "metadata": {},
   "outputs": [],
   "source": [
    "val_df['predicted_cluster'] = val_df['product_title'].apply(lambda x : search_similarity_tokenized(x, cluster_labels))"
   ]
  },
  {
   "cell_type": "code",
   "execution_count": 72,
   "id": "ed3a071e-a0cb-4818-b8c6-808ebb552296",
   "metadata": {},
   "outputs": [
    {
     "name": "stdout",
     "output_type": "stream",
     "text": [
      "Accuracy on Validation Dataset :  0.5016992353440951\n"
     ]
    }
   ],
   "source": [
    "print('Accuracy on Validation Dataset : ', (val_df['predicted_cluster'] == val_df['cluster_label']).sum()/val_df.shape[0])"
   ]
  },
  {
   "cell_type": "markdown",
   "id": "440b69d5-ede4-458d-a9f1-e38587abbe8b",
   "metadata": {},
   "source": [
    "## Cosine Similarity"
   ]
  },
  {
   "cell_type": "code",
   "execution_count": 161,
   "id": "8984c7a5-77e3-46db-8ac1-7ff08daf9912",
   "metadata": {},
   "outputs": [],
   "source": [
    "def cosine_similarity(text, cluster_label):\n",
    "    return td.cosine(text.split(' '), cluster_label.split(' '))"
   ]
  },
  {
   "cell_type": "code",
   "execution_count": 162,
   "id": "8c6d33f3-bb0b-4742-8e14-443255376ff2",
   "metadata": {},
   "outputs": [],
   "source": [
    "def search_max_cosine(text, cluster_labels):\n",
    "    match_scores = np.zeros(len(cluster_labels))\n",
    "    cos_fun = np.vectorize(cosine_similarity)\n",
    "    match_scores = cos_fun(text, cluster_labels)\n",
    "    return cluster_labels[np.argmax(match_scores)]"
   ]
  },
  {
   "cell_type": "code",
   "execution_count": 165,
   "id": "a06ba9f4-3e5e-47d2-97df-db90366e2463",
   "metadata": {},
   "outputs": [],
   "source": [
    "val_df['predicted_cluster_cosine'] = val_df['product_title'].apply(lambda x : search_max_cosine(x, cluster_labels))"
   ]
  },
  {
   "cell_type": "code",
   "execution_count": 166,
   "id": "1db86482-b660-4093-82b9-268da145a1a8",
   "metadata": {},
   "outputs": [
    {
     "name": "stdout",
     "output_type": "stream",
     "text": [
      "Accuracy on Validation Dataset :  0.6367884451996602\n"
     ]
    }
   ],
   "source": [
    "print('Accuracy on Validation Dataset : ', (val_df['predicted_cluster_cosine'] == val_df['cluster_label']).sum()/val_df.shape[0])"
   ]
  },
  {
   "cell_type": "markdown",
   "id": "7b9563ad-482e-4656-bcb8-643607dcc22a",
   "metadata": {},
   "source": [
    "## Dice Score"
   ]
  },
  {
   "cell_type": "code",
   "execution_count": 169,
   "id": "79bab13b-abda-49b3-8c2b-af86565426d9",
   "metadata": {},
   "outputs": [],
   "source": [
    "def dice_similarity(text, cluster_label):\n",
    "    return td.sorensen_dice(text.split(' '), cluster_label.split(' '))"
   ]
  },
  {
   "cell_type": "code",
   "execution_count": 170,
   "id": "74bc66c9-eb20-4df9-94e3-6d4cd26d2590",
   "metadata": {},
   "outputs": [],
   "source": [
    "def search_max_dice(text, cluster_labels):\n",
    "    match_scores = np.zeros(len(cluster_labels))\n",
    "    dice_fun = np.vectorize(dice_similarity)\n",
    "    match_scores = dice_fun(text, cluster_labels)\n",
    "    return cluster_labels[np.argmax(match_scores)]"
   ]
  },
  {
   "cell_type": "code",
   "execution_count": 171,
   "id": "21293469-2abe-479e-b719-8fb34f8f01b8",
   "metadata": {},
   "outputs": [],
   "source": [
    "val_df['predicted_cluster_dice'] = val_df['product_title'].apply(lambda x : search_max_dice(x, cluster_labels))"
   ]
  },
  {
   "cell_type": "code",
   "execution_count": 172,
   "id": "67456e91-0bf3-4c2b-b23d-274f4ddceac8",
   "metadata": {},
   "outputs": [
    {
     "name": "stdout",
     "output_type": "stream",
     "text": [
      "Accuracy on Validation Dataset :  0.6359388275276125\n"
     ]
    }
   ],
   "source": [
    "print('Accuracy on Validation Dataset : ', (val_df['predicted_cluster_dice'] == val_df['cluster_label']).sum()/val_df.shape[0])"
   ]
  },
  {
   "cell_type": "markdown",
   "id": "756b0919-6ce7-4af5-9dc4-91d0b7dc6e9a",
   "metadata": {},
   "source": [
    "## Tversky Distance"
   ]
  },
  {
   "cell_type": "code",
   "execution_count": 183,
   "id": "f1cd3a74-d4e9-4d22-8e9c-320148d4eed3",
   "metadata": {},
   "outputs": [],
   "source": [
    "tversky = td.Tversky(ks=(0.1, 0.4))"
   ]
  },
  {
   "cell_type": "code",
   "execution_count": 184,
   "id": "c15d1deb-5ffd-4a61-826d-812d472669a7",
   "metadata": {},
   "outputs": [],
   "source": [
    "def tversky_distance(text, cluster_label):\n",
    "    return tversky(text.split(' '), cluster_label.split(' '))"
   ]
  },
  {
   "cell_type": "code",
   "execution_count": 185,
   "id": "1e3c4f3c-f979-491a-b724-d30240040a58",
   "metadata": {},
   "outputs": [],
   "source": [
    "def search_max_tversky(text, cluster_labels):\n",
    "    match_scores = np.zeros(len(cluster_labels))\n",
    "    tversky_fun = np.vectorize(tversky_distance)\n",
    "    match_scores = tversky_fun(text, cluster_labels)\n",
    "    return cluster_labels[np.argmax(match_scores)]"
   ]
  },
  {
   "cell_type": "code",
   "execution_count": 186,
   "id": "4bb721bf-d9d7-406e-b4e6-a94a530fd23e",
   "metadata": {},
   "outputs": [],
   "source": [
    "val_df['predicted_cluster_tversky'] = val_df['product_title'].apply(lambda x : search_max_tversky(x, cluster_labels))"
   ]
  },
  {
   "cell_type": "code",
   "execution_count": 187,
   "id": "c9257419-d2ba-4320-9cd7-3aef5a33eee4",
   "metadata": {},
   "outputs": [
    {
     "name": "stdout",
     "output_type": "stream",
     "text": [
      "Accuracy on Validation Dataset :  0.6346644010195412\n"
     ]
    }
   ],
   "source": [
    "print('Accuracy on Validation Dataset : ', (val_df['predicted_cluster_tversky'] == val_df['cluster_label']).sum()/val_df.shape[0])"
   ]
  },
  {
   "cell_type": "code",
   "execution_count": null,
   "id": "e4e9f41c-2375-4c8a-8e97-d1d6d64898e5",
   "metadata": {},
   "outputs": [],
   "source": []
  },
  {
   "cell_type": "markdown",
   "id": "8f88f491-49da-4ae2-8f96-c7e20c6a6787",
   "metadata": {},
   "source": [
    "# Clustering Using Pretrained LSTM Model Embeddings\n",
    "## Extract Embeddings from LSTM Output"
   ]
  },
  {
   "cell_type": "code",
   "execution_count": 4,
   "id": "095a3b42-d035-484b-b52f-c0bf5fb55e21",
   "metadata": {},
   "outputs": [],
   "source": [
    "from create_vocab import CreateVocab"
   ]
  },
  {
   "cell_type": "code",
   "execution_count": 5,
   "id": "ee3c29c4-b234-4083-8271-53733e4fce11",
   "metadata": {},
   "outputs": [],
   "source": [
    "vocab = CreateVocab(first_run=False, load_embeddings=False)"
   ]
  },
  {
   "cell_type": "code",
   "execution_count": 6,
   "id": "79d94e36-26cf-49b8-87a1-866dfdefecf0",
   "metadata": {},
   "outputs": [],
   "source": [
    "with open('model_files/cluster_label_mapping.json', 'r') as f:\n",
    "    cluster_label_mapping = json.load(f)"
   ]
  },
  {
   "cell_type": "code",
   "execution_count": 7,
   "id": "c438dfac-9306-48ca-9500-ea18e80267be",
   "metadata": {},
   "outputs": [],
   "source": [
    "unique_cluster_names = list(cluster_label_mapping)"
   ]
  },
  {
   "cell_type": "code",
   "execution_count": 8,
   "id": "6635118d-1ec7-4654-a988-1c822bf3f922",
   "metadata": {},
   "outputs": [],
   "source": [
    "df = pd.DataFrame()"
   ]
  },
  {
   "cell_type": "code",
   "execution_count": 9,
   "id": "7f261f1b-b461-4365-a3c1-8c6f6c2fcfee",
   "metadata": {},
   "outputs": [],
   "source": [
    "df['cluster_label'] = unique_cluster_names"
   ]
  },
  {
   "cell_type": "code",
   "execution_count": 10,
   "id": "e10dc963-c70e-44e2-b979-4413d36f565a",
   "metadata": {},
   "outputs": [],
   "source": [
    "df['tokenized_x'] = df['cluster_label'].apply(lambda x : tokenize(x))"
   ]
  },
  {
   "cell_type": "code",
   "execution_count": 11,
   "id": "427c40f6-0a4b-4301-acd0-e08d663adb31",
   "metadata": {},
   "outputs": [],
   "source": [
    "df['encoded_x'] = df['tokenized_x'].apply(lambda x : encode_sequence(x, vocab.word2idx))"
   ]
  },
  {
   "cell_type": "code",
   "execution_count": 12,
   "id": "52358888-b65f-4dd6-818c-5fd99e199491",
   "metadata": {},
   "outputs": [],
   "source": [
    "class TextDataset(Dataset):\n",
    "    def __init__(self, df):\n",
    "        self.df = df\n",
    "\n",
    "    def __len__(self):\n",
    "        return self.df.shape[0]\n",
    "\n",
    "    def __getitem__(self, idx):\n",
    "        x = torch.from_numpy(self.df.loc[idx, 'encoded_x'][0])\n",
    "        l = self.df.loc[idx, 'encoded_x'][1]\n",
    "        return x, l"
   ]
  },
  {
   "cell_type": "code",
   "execution_count": 13,
   "id": "39684ebc-8058-4da7-b1ba-015e0b2f710c",
   "metadata": {},
   "outputs": [],
   "source": [
    "cluster_label_dataset = TextDataset(df[['encoded_x', 'tokenized_x']])"
   ]
  },
  {
   "cell_type": "code",
   "execution_count": 14,
   "id": "946bec2a-66b8-47ab-af38-9afbb0586a8b",
   "metadata": {},
   "outputs": [],
   "source": [
    "def collate_fn(batch):\n",
    "    \"\"\"\n",
    "       data: is a list of tuples with (example, label, length)\n",
    "             where 'example' is a tensor of arbitrary shape\n",
    "             and label/length are scalars\n",
    "    \"\"\"\n",
    "    features, lengths = zip(*batch)\n",
    "    features = pad_sequence(features, batch_first=True, padding_value=0)\n",
    "    return features, torch.Tensor(lengths).int()"
   ]
  },
  {
   "cell_type": "code",
   "execution_count": 15,
   "id": "4e3f6c40-ed4d-47c5-a791-c9866545dcfa",
   "metadata": {},
   "outputs": [],
   "source": [
    "cluster_label_dataloader = DataLoader(cluster_label_dataset, batch_size=32, collate_fn=collate_fn, pin_memory=True, shuffle=False)"
   ]
  },
  {
   "cell_type": "code",
   "execution_count": 16,
   "id": "e1407c16-608b-4362-8354-bb5c19567084",
   "metadata": {},
   "outputs": [],
   "source": [
    "device = torch.device(\"cuda:0\" if torch.cuda.is_available() else \"cpu\")"
   ]
  },
  {
   "cell_type": "code",
   "execution_count": 17,
   "id": "804990b9-f1a8-4389-aaaf-aeda683fed80",
   "metadata": {},
   "outputs": [],
   "source": [
    "class LSTM(nn.Module):\n",
    "    def __init__(self, vocab_size, embedding_dim, embedding_matrix, hidden_size, num_output):\n",
    "        super(LSTM, self).__init__()\n",
    "        self.embeddings_layer = nn.Embedding(vocab_size, embedding_dim, padding_idx=0)\n",
    "        if embedding_matrix is not None:\n",
    "            self.embeddings_layer.load_state_dict({'weight': torch.from_numpy(embedding_matrix)})\n",
    "        self.lstm = nn.LSTM(embedding_dim, hidden_size, bidirectional=True)\n",
    "        self.dropout = nn.Dropout(p=0.2)\n",
    "        self.dense = nn.Linear(2 * hidden_size, num_output)\n",
    "\n",
    "    def forward(self, text_index, text_lengths):\n",
    "        embedded = self.embeddings_layer(text_index)\n",
    "        packed_embedded = nn.utils.rnn.pack_padded_sequence(embedded, text_lengths, batch_first=True,\n",
    "                                                            enforce_sorted=False)\n",
    "        packed_output, (hidden_state, cell_state) = self.lstm(packed_embedded)\n",
    "        hidden = torch.cat((hidden_state[-2, :, :], hidden_state[-1, :, :]), dim=1)\n",
    "        output = self.dense(self.dropout(hidden))\n",
    "        return output, hidden"
   ]
  },
  {
   "cell_type": "code",
   "execution_count": 18,
   "id": "7d950f4d-ad58-488a-b56f-a6f47d337cc7",
   "metadata": {},
   "outputs": [],
   "source": [
    "model = LSTM(len(vocab.word2idx.keys()), vocab.embedding_dim, None, 100, num_output=10).to(device)"
   ]
  },
  {
   "cell_type": "code",
   "execution_count": 19,
   "id": "29295aa2-15f2-47cf-b292-588686c7b73e",
   "metadata": {},
   "outputs": [],
   "source": [
    "model_dict = torch.load('model_files/lstm/epoch_4.tar')"
   ]
  },
  {
   "cell_type": "code",
   "execution_count": 20,
   "id": "a9f806e8-6625-488a-aa2b-43504eb2c57f",
   "metadata": {},
   "outputs": [
    {
     "data": {
      "text/plain": [
       "<All keys matched successfully>"
      ]
     },
     "execution_count": 20,
     "metadata": {},
     "output_type": "execute_result"
    }
   ],
   "source": [
    "model.load_state_dict(model_dict)"
   ]
  },
  {
   "cell_type": "code",
   "execution_count": 21,
   "id": "830578eb-6534-4b75-a8c2-359e6ba9f263",
   "metadata": {},
   "outputs": [],
   "source": [
    "cluster_label_embeddings = []"
   ]
  },
  {
   "cell_type": "code",
   "execution_count": 22,
   "id": "6c75f699-75b8-4021-8276-afbd7faf9868",
   "metadata": {},
   "outputs": [],
   "source": [
    "for i, (text, text_lengths) in enumerate(cluster_label_dataloader):\n",
    "    text = text.to(device)\n",
    "    outputs, embeddings = model(text, text_lengths)\n",
    "    cluster_label_embeddings.append(embeddings.detach().cpu())"
   ]
  },
  {
   "cell_type": "code",
   "execution_count": 23,
   "id": "287686d9-1012-4bde-b84a-6ef010c78dd7",
   "metadata": {},
   "outputs": [],
   "source": [
    "cluster_label_embeddings = list(itertools.chain.from_iterable(cluster_label_embeddings))"
   ]
  },
  {
   "cell_type": "code",
   "execution_count": 24,
   "id": "6aeaec79-283b-449a-a8f9-2ded56468ba5",
   "metadata": {},
   "outputs": [],
   "source": [
    "for i in range(len(cluster_label_embeddings)):\n",
    "    cluster_label_embeddings[i] = torch.mean(cluster_label_embeddings[i].reshape(2, 100), 0)"
   ]
  },
  {
   "cell_type": "code",
   "execution_count": 25,
   "id": "6ff0be0e-3a8d-45a7-8e8c-39d20cebf335",
   "metadata": {},
   "outputs": [],
   "source": [
    "cluster_label_embeddings = torch.from_numpy(np.array(cluster_label_embeddings))"
   ]
  },
  {
   "cell_type": "markdown",
   "id": "b69b40f0-6cae-4613-b36c-8830ec3850ae",
   "metadata": {},
   "source": [
    "## Embeddings for Cluster Label are extracted"
   ]
  },
  {
   "cell_type": "code",
   "execution_count": 26,
   "id": "44893060-f1a4-425f-96ef-e1c3dd4effda",
   "metadata": {},
   "outputs": [],
   "source": [
    "val_df['tokenized_x'] = val_df['product_title'].apply(lambda x : tokenize(x))"
   ]
  },
  {
   "cell_type": "code",
   "execution_count": 27,
   "id": "2461beba-a92c-4cd7-b1da-2bd27c43c59c",
   "metadata": {},
   "outputs": [],
   "source": [
    "val_df['encoded_x'] = val_df['tokenized_x'].apply(lambda x : encode_sequence(x, vocab.word2idx))"
   ]
  },
  {
   "cell_type": "code",
   "execution_count": 28,
   "id": "358b86f0-0747-4dbf-979f-64f2660daa18",
   "metadata": {},
   "outputs": [],
   "source": [
    "class TextDataset(Dataset):\n",
    "    def __init__(self, df):\n",
    "        self.df = df\n",
    "\n",
    "    def __len__(self):\n",
    "        return self.df.shape[0]\n",
    "\n",
    "    def __getitem__(self, idx):\n",
    "        x = torch.from_numpy(self.df.loc[idx, 'encoded_x'][0])\n",
    "        l = self.df.loc[idx, 'encoded_x'][1]\n",
    "        return x, l"
   ]
  },
  {
   "cell_type": "code",
   "execution_count": 29,
   "id": "6ca32da9-cb4f-40b6-9000-c3c1b9a75352",
   "metadata": {},
   "outputs": [],
   "source": [
    "val_dataset = TextDataset(val_df[['encoded_x', 'tokenized_x']])"
   ]
  },
  {
   "cell_type": "code",
   "execution_count": 30,
   "id": "6009780e-90ff-4464-a61c-f068a8765187",
   "metadata": {},
   "outputs": [],
   "source": [
    "val_dataloader = DataLoader(val_dataset, batch_size=32, collate_fn=collate_fn, pin_memory=True, shuffle=False)"
   ]
  },
  {
   "cell_type": "code",
   "execution_count": 31,
   "id": "2afef25a-01f4-4f9a-a83b-34100a0e3e82",
   "metadata": {},
   "outputs": [],
   "source": [
    "product_title_embeddings = []"
   ]
  },
  {
   "cell_type": "code",
   "execution_count": 32,
   "id": "50592345-d8cf-488d-a474-3801d00b6cb3",
   "metadata": {},
   "outputs": [],
   "source": [
    "for i, (text, text_lengths) in enumerate(val_dataloader):\n",
    "    text = text.to(device)\n",
    "    outputs, embeddings = model(text, text_lengths)\n",
    "    product_title_embeddings.append(embeddings.detach().cpu())"
   ]
  },
  {
   "cell_type": "code",
   "execution_count": 33,
   "id": "638725d2-a624-445c-a613-7a80d89f2042",
   "metadata": {},
   "outputs": [],
   "source": [
    "product_title_embeddings = list(itertools.chain.from_iterable(product_title_embeddings))"
   ]
  },
  {
   "cell_type": "code",
   "execution_count": 34,
   "id": "1409cf2f-dfc5-4969-a453-ec8b73ba75e0",
   "metadata": {},
   "outputs": [],
   "source": [
    "for i in range(len(product_title_embeddings)):\n",
    "    product_title_embeddings[i] = torch.mean(product_title_embeddings[i].reshape(2, 100), 0)"
   ]
  },
  {
   "cell_type": "code",
   "execution_count": 46,
   "id": "802cb727-b0e1-4597-9fe3-d808be83752e",
   "metadata": {},
   "outputs": [],
   "source": [
    "cos = nn.CosineSimilarity(dim=1, eps=1e-6)"
   ]
  },
  {
   "cell_type": "code",
   "execution_count": 36,
   "id": "e5bc61c7-fefa-4653-8b51-20b6ef394d5d",
   "metadata": {},
   "outputs": [],
   "source": [
    "product_title_embeddings = torch.from_numpy(np.array(product_title_embeddings))"
   ]
  },
  {
   "cell_type": "code",
   "execution_count": 37,
   "id": "3ffc2feb-43ee-4b99-8d33-be5683a2ef68",
   "metadata": {},
   "outputs": [],
   "source": [
    "cluster_label_embeddings = cluster_label_embeddings.to(device)"
   ]
  },
  {
   "cell_type": "code",
   "execution_count": 57,
   "id": "4cf19dac-ff35-46f0-88f9-22da8f81c6dc",
   "metadata": {},
   "outputs": [],
   "source": [
    "predicted_cluster_label = []\n",
    "for i in range(len(product_title_embeddings)):\n",
    "    x = product_title_embeddings[i].to(device)\n",
    "    x = x.unsqueeze(0)\n",
    "    cos_score = cos(x, cluster_label_embeddings)\n",
    "    predicted_cluster_label.append(unique_cluster_names[torch.argmax(cos_score).detach().cpu().tolist()])"
   ]
  },
  {
   "cell_type": "code",
   "execution_count": 62,
   "id": "fa2f64dd-c8cc-4747-a037-244ebfa8e50c",
   "metadata": {},
   "outputs": [
    {
     "data": {
      "text/plain": [
       "0                                 praktica luxmedia wp240\n",
       "1       amd phenom ii x4 970 3 5ghz socket am3 2000mhz...\n",
       "2                                    liebherr t1404 white\n",
       "3                                          lg 43uk6300plb\n",
       "4                      hisense rb381n4wc1 stainless steel\n",
       "                              ...                        \n",
       "7057                                          lg 55lf580v\n",
       "7058                                 swan sm40010redn red\n",
       "7059                            samsung galaxy a3 sm a310\n",
       "7060                               praktica luxmedia z250\n",
       "7061                      intel core i7 3770t 2 5ghz tray\n",
       "Name: cluster_label, Length: 7062, dtype: object"
      ]
     },
     "execution_count": 62,
     "metadata": {},
     "output_type": "execute_result"
    }
   ],
   "source": [
    "val_df['cluster_label']"
   ]
  },
  {
   "cell_type": "code",
   "execution_count": 61,
   "id": "8665a3ec-c471-4ac6-8253-703a0f983e92",
   "metadata": {},
   "outputs": [],
   "source": [
    "val_df['predicted_cluster_label'] = predicted_cluster_label"
   ]
  },
  {
   "cell_type": "code",
   "execution_count": 64,
   "id": "ec19b826-8446-46cd-8bf0-e382a5178544",
   "metadata": {},
   "outputs": [
    {
     "data": {
      "text/plain": [
       "355"
      ]
     },
     "execution_count": 64,
     "metadata": {},
     "output_type": "execute_result"
    }
   ],
   "source": [
    "(val_df['predicted_cluster_label'] == val_df['cluster_label']).sum()"
   ]
  },
  {
   "cell_type": "markdown",
   "id": "d5280208-ec90-4599-a8fa-a50642ed3914",
   "metadata": {},
   "source": [
    "## The score is very less, probably training embeddings in siamese fashion would help increase"
   ]
  },
  {
   "cell_type": "code",
   "execution_count": null,
   "id": "7ca629b9-9d38-4ea8-afe3-0b9b60f6fefe",
   "metadata": {},
   "outputs": [],
   "source": []
  }
 ],
 "metadata": {
  "kernelspec": {
   "display_name": "Python 3 (ipykernel)",
   "language": "python",
   "name": "python3"
  },
  "language_info": {
   "codemirror_mode": {
    "name": "ipython",
    "version": 3
   },
   "file_extension": ".py",
   "mimetype": "text/x-python",
   "name": "python",
   "nbconvert_exporter": "python",
   "pygments_lexer": "ipython3",
   "version": "3.10.14"
  }
 },
 "nbformat": 4,
 "nbformat_minor": 5
}
