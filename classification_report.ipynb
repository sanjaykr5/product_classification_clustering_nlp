{
 "cells": [
  {
   "cell_type": "markdown",
   "id": "f82ba1a9-f8dc-4711-a0da-d195eb68cd3c",
   "metadata": {},
   "source": [
    "# Classification Report Notebook\n",
    "In this report, Performance of every model on test dataset is compared"
   ]
  },
  {
   "cell_type": "code",
   "execution_count": 1,
   "id": "d26d65aa-9f02-497b-979f-b617e32c2e71",
   "metadata": {},
   "outputs": [],
   "source": [
    "# Import Necessary Packages\n",
    "import numpy as np\n",
    "import pandas as pd\n",
    "import nltk\n",
    "import pickle\n",
    "from sklearn.feature_extraction.text import CountVectorizer\n",
    "from sklearn.metrics import accuracy_score, f1_score, classification_report\n",
    "from sklearn import svm\n",
    "from sklearn.naive_bayes import MultinomialNB\n",
    "from sklearn.linear_model import LogisticRegression\n",
    "from sklearn.ensemble import RandomForestClassifier\n",
    "from xgboost import XGBClassifier\n",
    "from utils.helper_functions import read_dataframes, tokenize, encode_sequence, collate_fn\n",
    "import torch\n",
    "from train_lstm import TextDataset\n",
    "from models.lstm import LSTM\n",
    "from torch.utils.data import DataLoader"
   ]
  },
  {
   "cell_type": "code",
   "execution_count": 22,
   "id": "0f96ec4f-542f-433c-9b68-6eda7bf4a1b9",
   "metadata": {},
   "outputs": [],
   "source": [
    "train_df, val_df, test_df  = read_dataframes()"
   ]
  },
  {
   "cell_type": "markdown",
   "id": "da6009b7-a823-4ab2-ac7d-cae94aaabc7b",
   "metadata": {},
   "source": [
    "# Machine Learning Models"
   ]
  },
  {
   "cell_type": "code",
   "execution_count": 23,
   "id": "87e96967-087c-4da3-a6d6-8827285473df",
   "metadata": {},
   "outputs": [],
   "source": [
    "# Load Label Encoder \n",
    "with open('model_files/class_names.pkl', 'rb') as f:\n",
    "    lb = pickle.load(f)"
   ]
  },
  {
   "cell_type": "code",
   "execution_count": 24,
   "id": "b275cd84-d5da-4589-94fa-ffe6e486a7e1",
   "metadata": {},
   "outputs": [],
   "source": [
    "# Load Count Vectorizer\n",
    "with open('model_files/count_vectorizer.pkl', 'rb') as f:\n",
    "    count_vec = pickle.load(f)"
   ]
  },
  {
   "cell_type": "code",
   "execution_count": 25,
   "id": "216c0967-8a9d-42f2-ac21-904c3782dc83",
   "metadata": {},
   "outputs": [],
   "source": [
    "models_dict = [\n",
    "    'logistic_regression', 'multinomial_naive_bayes',\n",
    "    'svm_with_kernal', 'random_forest', 'xgboost'\n",
    "]"
   ]
  },
  {
   "cell_type": "code",
   "execution_count": 6,
   "id": "cbf6e053-0289-4344-8971-dd828ba4271f",
   "metadata": {},
   "outputs": [],
   "source": [
    "x_test_bow = np.asarray(count_vec.transform(test_df['product_title']).todense())\n",
    "y_test  = test_df['category'].to_numpy()"
   ]
  },
  {
   "cell_type": "code",
   "execution_count": 7,
   "id": "8cbe4c8e-7aa6-4f09-92d4-53388cd3a671",
   "metadata": {},
   "outputs": [
    {
     "name": "stdout",
     "output_type": "stream",
     "text": [
      "Model Name : logistic_regression\n",
      "                  precision    recall  f1-score   support\n",
      "\n",
      "            CPUs       1.00      1.00      1.00       773\n",
      " Digital Cameras       1.00      1.00      1.00       540\n",
      "     Dishwashers       0.94      0.98      0.96       685\n",
      "        Freezers       0.99      0.93      0.96       442\n",
      " Fridge Freezers       0.97      0.96      0.96      1100\n",
      "         Fridges       0.94      0.93      0.94       717\n",
      "      Microwaves       0.99      0.96      0.97       468\n",
      "   Mobile Phones       0.99      1.00      0.99       816\n",
      "             TVs       0.96      0.99      0.98       713\n",
      "Washing Machines       0.97      0.97      0.97       809\n",
      "\n",
      "        accuracy                           0.97      7063\n",
      "       macro avg       0.97      0.97      0.97      7063\n",
      "    weighted avg       0.97      0.97      0.97      7063\n",
      "\n",
      "Model Name : multinomial_naive_bayes\n",
      "                  precision    recall  f1-score   support\n",
      "\n",
      "            CPUs       1.00      1.00      1.00       773\n",
      " Digital Cameras       0.99      1.00      0.99       540\n",
      "     Dishwashers       0.97      0.97      0.97       685\n",
      "        Freezers       1.00      0.74      0.85       442\n",
      " Fridge Freezers       0.86      0.96      0.91      1100\n",
      "         Fridges       0.90      0.89      0.90       717\n",
      "      Microwaves       0.99      0.96      0.97       468\n",
      "   Mobile Phones       0.99      1.00      1.00       816\n",
      "             TVs       0.98      0.99      0.98       713\n",
      "Washing Machines       0.98      0.97      0.98       809\n",
      "\n",
      "        accuracy                           0.96      7063\n",
      "       macro avg       0.97      0.95      0.96      7063\n",
      "    weighted avg       0.96      0.96      0.96      7063\n",
      "\n",
      "Model Name : svm_with_kernal\n",
      "                  precision    recall  f1-score   support\n",
      "\n",
      "            CPUs       1.00      1.00      1.00       773\n",
      " Digital Cameras       1.00      1.00      1.00       540\n",
      "     Dishwashers       0.95      0.98      0.97       685\n",
      "        Freezers       1.00      0.95      0.97       442\n",
      " Fridge Freezers       0.98      0.97      0.97      1100\n",
      "         Fridges       0.94      0.96      0.95       717\n",
      "      Microwaves       0.99      0.96      0.98       468\n",
      "   Mobile Phones       0.99      0.99      0.99       816\n",
      "             TVs       0.97      1.00      0.99       713\n",
      "Washing Machines       0.98      0.96      0.97       809\n",
      "\n",
      "        accuracy                           0.98      7063\n",
      "       macro avg       0.98      0.98      0.98      7063\n",
      "    weighted avg       0.98      0.98      0.98      7063\n",
      "\n",
      "Model Name : random_forest\n",
      "                  precision    recall  f1-score   support\n",
      "\n",
      "            CPUs       1.00      1.00      1.00       773\n",
      " Digital Cameras       1.00      0.99      1.00       540\n",
      "     Dishwashers       0.95      0.98      0.97       685\n",
      "        Freezers       0.98      0.94      0.96       442\n",
      " Fridge Freezers       0.97      0.97      0.97      1100\n",
      "         Fridges       0.95      0.95      0.95       717\n",
      "      Microwaves       0.99      0.97      0.98       468\n",
      "   Mobile Phones       1.00      0.99      0.99       816\n",
      "             TVs       0.97      1.00      0.99       713\n",
      "Washing Machines       0.97      0.97      0.97       809\n",
      "\n",
      "        accuracy                           0.98      7063\n",
      "       macro avg       0.98      0.98      0.98      7063\n",
      "    weighted avg       0.98      0.98      0.98      7063\n",
      "\n",
      "Model Name : xgboost\n",
      "                  precision    recall  f1-score   support\n",
      "\n",
      "            CPUs       1.00      1.00      1.00       773\n",
      " Digital Cameras       0.99      0.99      0.99       540\n",
      "     Dishwashers       0.88      0.95      0.91       685\n",
      "        Freezers       0.97      0.90      0.93       442\n",
      " Fridge Freezers       0.94      0.93      0.93      1100\n",
      "         Fridges       0.92      0.87      0.90       717\n",
      "      Microwaves       0.98      0.94      0.96       468\n",
      "   Mobile Phones       0.96      0.99      0.98       816\n",
      "             TVs       0.95      0.99      0.97       713\n",
      "Washing Machines       0.95      0.94      0.94       809\n",
      "\n",
      "        accuracy                           0.95      7063\n",
      "       macro avg       0.95      0.95      0.95      7063\n",
      "    weighted avg       0.95      0.95      0.95      7063\n",
      "\n"
     ]
    }
   ],
   "source": [
    "for model_name in models_dict:\n",
    "    with open(f'model_files/{model_name}_classification.pkl', 'rb') as f:\n",
    "        model = pickle.load(f)\n",
    "    y_pred = model.predict(x_test_bow)\n",
    "    print(f'Model Name : {model_name}')\n",
    "    print(classification_report(y_true=y_test, y_pred=y_pred, target_names=lb.classes_.tolist()))"
   ]
  },
  {
   "cell_type": "markdown",
   "id": "de440bbc-73fa-4dba-9194-cc8b154a78a7",
   "metadata": {},
   "source": [
    "# LSTM Model "
   ]
  },
  {
   "cell_type": "code",
   "execution_count": 41,
   "id": "4e8b91a7-4bb4-4e26-8548-1c15cce9b9b0",
   "metadata": {},
   "outputs": [],
   "source": [
    "from create_vocab import CreateVocab"
   ]
  },
  {
   "cell_type": "code",
   "execution_count": 42,
   "id": "85362c0d-706d-49d1-9e27-cc161846e2b2",
   "metadata": {},
   "outputs": [],
   "source": [
    "vocab = CreateVocab(first_run=False, load_embeddings=False)"
   ]
  },
  {
   "cell_type": "code",
   "execution_count": 43,
   "id": "bfb779b4-3a32-454f-bf59-727a099efdc2",
   "metadata": {},
   "outputs": [],
   "source": [
    "test_df['tokenized_x'] = test_df['product_title'].apply(lambda x : tokenize(x))"
   ]
  },
  {
   "cell_type": "code",
   "execution_count": 44,
   "id": "431ce56b-c95d-4c8e-a7ee-d29c749e97f8",
   "metadata": {},
   "outputs": [],
   "source": [
    "test_df['encoded_x'] = test_df['tokenized_x'].apply(lambda x : encode_sequence(x, vocab.word2idx))"
   ]
  },
  {
   "cell_type": "code",
   "execution_count": 45,
   "id": "86d14453-4adb-4835-91fd-96d48415a47d",
   "metadata": {},
   "outputs": [],
   "source": [
    "test_dataset = TextDataset(test_df[['encoded_x', 'tokenized_x', 'category']])"
   ]
  },
  {
   "cell_type": "code",
   "execution_count": 46,
   "id": "70d58beb-76c4-49df-9cb3-06548c067ba8",
   "metadata": {},
   "outputs": [],
   "source": [
    "test_dataloder = DataLoader(test_dataset, batch_size=32, collate_fn=collate_fn, pin_memory=True)"
   ]
  },
  {
   "cell_type": "code",
   "execution_count": 47,
   "id": "e1407c16-608b-4362-8354-bb5c19567084",
   "metadata": {},
   "outputs": [],
   "source": [
    "device = torch.device(\"cuda:0\" if torch.cuda.is_available() else \"cpu\")"
   ]
  },
  {
   "cell_type": "code",
   "execution_count": 76,
   "id": "7d950f4d-ad58-488a-b56f-a6f47d337cc7",
   "metadata": {},
   "outputs": [],
   "source": [
    "model = LSTM(len(vocab.word2idx.keys()), vocab.embedding_dim, None, 100, num_output=10)"
   ]
  },
  {
   "cell_type": "code",
   "execution_count": 77,
   "id": "29295aa2-15f2-47cf-b292-588686c7b73e",
   "metadata": {},
   "outputs": [],
   "source": [
    "model_dict = torch.load('model_files/lstm/epoch_4.tar')"
   ]
  },
  {
   "cell_type": "code",
   "execution_count": 78,
   "id": "a9f806e8-6625-488a-aa2b-43504eb2c57f",
   "metadata": {},
   "outputs": [
    {
     "data": {
      "text/plain": [
       "<All keys matched successfully>"
      ]
     },
     "execution_count": 78,
     "metadata": {},
     "output_type": "execute_result"
    }
   ],
   "source": [
    "model.load_state_dict(model_dict)"
   ]
  },
  {
   "cell_type": "code",
   "execution_count": 79,
   "id": "b8059c5c-b3b4-4e23-ad92-57f0b2a301e6",
   "metadata": {},
   "outputs": [],
   "source": [
    "y_true = []\n",
    "y_preds = []"
   ]
  },
  {
   "cell_type": "code",
   "execution_count": 52,
   "id": "2d95499a-f68a-4fc6-93f3-0e30f228ee2e",
   "metadata": {},
   "outputs": [],
   "source": [
    "for i, (text, text_lengths, labels) in enumerate(test_dataloder):\n",
    "    y_true.append(labels)\n",
    "    text = text.to(device)\n",
    "    outputs = model(text, text_lengths)\n",
    "    _, preds = torch.max(outputs, 1)\n",
    "    y_preds.append(preds.detach().cpu())"
   ]
  },
  {
   "cell_type": "code",
   "execution_count": 53,
   "id": "d919777d-b1a6-4f92-89e6-a5299b141aef",
   "metadata": {},
   "outputs": [],
   "source": [
    "y_preds = torch.tensor([item for sublist in y_preds for item in sublist])\n",
    "y_true = torch.tensor([item for sublist in y_true for item in sublist])"
   ]
  },
  {
   "cell_type": "code",
   "execution_count": 54,
   "id": "d93ade41-47ce-44e0-be49-bf1e7c4c93f9",
   "metadata": {},
   "outputs": [
    {
     "name": "stdout",
     "output_type": "stream",
     "text": [
      "                  precision    recall  f1-score   support\n",
      "\n",
      "            CPUs       1.00      1.00      1.00       773\n",
      " Digital Cameras       1.00      1.00      1.00       540\n",
      "     Dishwashers       0.94      0.96      0.95       685\n",
      "        Freezers       0.95      0.94      0.94       442\n",
      " Fridge Freezers       0.95      0.95      0.95      1100\n",
      "         Fridges       0.93      0.92      0.93       717\n",
      "      Microwaves       0.97      0.96      0.97       468\n",
      "   Mobile Phones       0.99      0.99      0.99       816\n",
      "             TVs       0.98      0.98      0.98       713\n",
      "Washing Machines       0.96      0.96      0.96       809\n",
      "\n",
      "        accuracy                           0.97      7063\n",
      "       macro avg       0.97      0.97      0.97      7063\n",
      "    weighted avg       0.97      0.97      0.97      7063\n",
      "\n"
     ]
    }
   ],
   "source": [
    "print(classification_report(y_true=y_true, y_pred=y_preds, target_names=lb.classes_.tolist()))"
   ]
  },
  {
   "cell_type": "code",
   "execution_count": null,
   "id": "00391561-cbe5-4665-ac32-5b46b3b9aeff",
   "metadata": {},
   "outputs": [],
   "source": []
  },
  {
   "cell_type": "code",
   "execution_count": null,
   "id": "3249b9f3-a3f9-43f4-b6a0-7556b172eab1",
   "metadata": {},
   "outputs": [],
   "source": []
  }
 ],
 "metadata": {
  "kernelspec": {
   "display_name": "Python 3 (ipykernel)",
   "language": "python",
   "name": "python3"
  },
  "language_info": {
   "codemirror_mode": {
    "name": "ipython",
    "version": 3
   },
   "file_extension": ".py",
   "mimetype": "text/x-python",
   "name": "python",
   "nbconvert_exporter": "python",
   "pygments_lexer": "ipython3",
   "version": "3.10.14"
  }
 },
 "nbformat": 4,
 "nbformat_minor": 5
}
